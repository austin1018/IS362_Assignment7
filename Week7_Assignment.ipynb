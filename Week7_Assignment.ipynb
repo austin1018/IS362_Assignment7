{
 "cells": [
  {
   "cell_type": "markdown",
   "id": "7b7c3997",
   "metadata": {},
   "source": [
    "Import pandas library"
   ]
  },
  {
   "cell_type": "code",
   "execution_count": 105,
   "id": "b1c73bc0",
   "metadata": {},
   "outputs": [],
   "source": [
    "import pandas as pd"
   ]
  },
  {
   "cell_type": "markdown",
   "id": "864c60c9",
   "metadata": {},
   "source": [
    "Read and load CSV file in the memory"
   ]
  },
  {
   "cell_type": "code",
   "execution_count": 106,
   "id": "0189f71c",
   "metadata": {},
   "outputs": [],
   "source": [
    "df=pd.read_csv(\"https://raw.githubusercontent.com/austin1018/IS362_Assignment7/main/movie%20rate.csv\")"
   ]
  },
  {
   "cell_type": "markdown",
   "id": "3da8a4de",
   "metadata": {},
   "source": [
    "Change the column name from unnamed to User"
   ]
  },
  {
   "cell_type": "code",
   "execution_count": 107,
   "id": "d0e1e5d6",
   "metadata": {},
   "outputs": [],
   "source": [
    "df.rename(columns = {'Unnamed: 0': 'User'},inplace=True)"
   ]
  },
  {
   "cell_type": "markdown",
   "id": "0afbd0f9",
   "metadata": {},
   "source": [
    "Unpivot the data to be a flat table and store it in a seperate dataframe, this is the preparation for normalization."
   ]
  },
  {
   "cell_type": "code",
   "execution_count": 108,
   "id": "7a799601",
   "metadata": {},
   "outputs": [],
   "source": [
    "cdf=df.melt(id_vars='User',var_name='Movie',value_name='Rate').dropna()"
   ]
  },
  {
   "cell_type": "markdown",
   "id": "cefca1bc",
   "metadata": {},
   "source": [
    "Add the column for total by user and row for total by movie"
   ]
  },
  {
   "cell_type": "code",
   "execution_count": 109,
   "id": "aabccc3a",
   "metadata": {},
   "outputs": [],
   "source": [
    "df[\"\"] = df.mean(axis=1)"
   ]
  },
  {
   "cell_type": "code",
   "execution_count": 110,
   "id": "f9195ebe",
   "metadata": {},
   "outputs": [
    {
     "name": "stderr",
     "output_type": "stream",
     "text": [
      "<ipython-input-110-a41ec7a25e9d>:1: FutureWarning: Slicing a positional slice with .loc is not supported, and will raise TypeError in a future version.  Use .loc with labels or .iloc with positions instead.\n",
      "  df.loc[\"\",1:7]= df.mean(axis=0).round(2)\n"
     ]
    }
   ],
   "source": [
    "df.loc[\"\",1:7]= df.mean(axis=0).round(2)"
   ]
  },
  {
   "cell_type": "markdown",
   "id": "8075b17c",
   "metadata": {},
   "source": [
    "Show the average ratings for each user and each movie."
   ]
  },
  {
   "cell_type": "code",
   "execution_count": 111,
   "id": "408f138e",
   "metadata": {
    "scrolled": false
   },
   "outputs": [
    {
     "data": {
      "text/html": [
       "<div>\n",
       "<style scoped>\n",
       "    .dataframe tbody tr th:only-of-type {\n",
       "        vertical-align: middle;\n",
       "    }\n",
       "\n",
       "    .dataframe tbody tr th {\n",
       "        vertical-align: top;\n",
       "    }\n",
       "\n",
       "    .dataframe thead th {\n",
       "        text-align: right;\n",
       "    }\n",
       "</style>\n",
       "<table border=\"1\" class=\"dataframe\">\n",
       "  <thead>\n",
       "    <tr style=\"text-align: right;\">\n",
       "      <th></th>\n",
       "      <th>User</th>\n",
       "      <th>The Guilty</th>\n",
       "      <th>The Addams Family 2</th>\n",
       "      <th>The Survivalist</th>\n",
       "      <th>The Card Counter</th>\n",
       "      <th>Intrusion</th>\n",
       "      <th>The Starling</th>\n",
       "      <th></th>\n",
       "    </tr>\n",
       "  </thead>\n",
       "  <tbody>\n",
       "    <tr>\n",
       "      <th>0</th>\n",
       "      <td>Joy</td>\n",
       "      <td>4.0</td>\n",
       "      <td>3.00</td>\n",
       "      <td>5.00</td>\n",
       "      <td>NaN</td>\n",
       "      <td>NaN</td>\n",
       "      <td>5.00</td>\n",
       "      <td>4.25</td>\n",
       "    </tr>\n",
       "    <tr>\n",
       "      <th>1</th>\n",
       "      <td>Jack</td>\n",
       "      <td>3.0</td>\n",
       "      <td>NaN</td>\n",
       "      <td>3.00</td>\n",
       "      <td>5.0</td>\n",
       "      <td>5.0</td>\n",
       "      <td>NaN</td>\n",
       "      <td>4.00</td>\n",
       "    </tr>\n",
       "    <tr>\n",
       "      <th>2</th>\n",
       "      <td>John</td>\n",
       "      <td>NaN</td>\n",
       "      <td>5.00</td>\n",
       "      <td>4.00</td>\n",
       "      <td>NaN</td>\n",
       "      <td>3.0</td>\n",
       "      <td>4.00</td>\n",
       "      <td>4.00</td>\n",
       "    </tr>\n",
       "    <tr>\n",
       "      <th>3</th>\n",
       "      <td>Jason</td>\n",
       "      <td>5.0</td>\n",
       "      <td>NaN</td>\n",
       "      <td>5.00</td>\n",
       "      <td>NaN</td>\n",
       "      <td>3.0</td>\n",
       "      <td>4.00</td>\n",
       "      <td>4.25</td>\n",
       "    </tr>\n",
       "    <tr>\n",
       "      <th>4</th>\n",
       "      <td>Mary</td>\n",
       "      <td>NaN</td>\n",
       "      <td>5.00</td>\n",
       "      <td>NaN</td>\n",
       "      <td>5.0</td>\n",
       "      <td>3.0</td>\n",
       "      <td>4.00</td>\n",
       "      <td>4.25</td>\n",
       "    </tr>\n",
       "    <tr>\n",
       "      <th></th>\n",
       "      <td>NaN</td>\n",
       "      <td>4.0</td>\n",
       "      <td>4.33</td>\n",
       "      <td>4.25</td>\n",
       "      <td>5.0</td>\n",
       "      <td>3.5</td>\n",
       "      <td>4.25</td>\n",
       "      <td>NaN</td>\n",
       "    </tr>\n",
       "  </tbody>\n",
       "</table>\n",
       "</div>"
      ],
      "text/plain": [
       "    User  The Guilty  The Addams Family 2  The Survivalist  The Card Counter  \\\n",
       "0    Joy         4.0                 3.00             5.00               NaN   \n",
       "1   Jack         3.0                  NaN             3.00               5.0   \n",
       "2   John         NaN                 5.00             4.00               NaN   \n",
       "3  Jason         5.0                  NaN             5.00               NaN   \n",
       "4   Mary         NaN                 5.00              NaN               5.0   \n",
       "     NaN         4.0                 4.33             4.25               5.0   \n",
       "\n",
       "   Intrusion  The Starling        \n",
       "0        NaN          5.00  4.25  \n",
       "1        5.0           NaN  4.00  \n",
       "2        3.0          4.00  4.00  \n",
       "3        3.0          4.00  4.25  \n",
       "4        3.0          4.00  4.25  \n",
       "         3.5          4.25   NaN  "
      ]
     },
     "execution_count": 111,
     "metadata": {},
     "output_type": "execute_result"
    }
   ],
   "source": [
    "df"
   ]
  },
  {
   "cell_type": "markdown",
   "id": "249eaaf5",
   "metadata": {},
   "source": [
    "Create a new pandas dataframe, with normalized ratings for each user. "
   ]
  },
  {
   "cell_type": "code",
   "execution_count": 113,
   "id": "84ea3792",
   "metadata": {},
   "outputs": [],
   "source": [
    "cdf[\"Rate\"]=(cdf[\"Rate\"]-cdf[\"Rate\"].min())/(cdf[\"Rate\"].max()-cdf[\"Rate\"].min())"
   ]
  },
  {
   "cell_type": "markdown",
   "id": "36d025d5",
   "metadata": {},
   "source": [
    "Show the average ratings for each user."
   ]
  },
  {
   "cell_type": "code",
   "execution_count": 123,
   "id": "30ac4a43",
   "metadata": {},
   "outputs": [],
   "source": [
    "DF_AggByUser=cdf.groupby([\"User\"]).mean()\n",
    "DF_AggByMovie=cdf.groupby([\"Movie\"]).mean()"
   ]
  },
  {
   "cell_type": "code",
   "execution_count": 124,
   "id": "e7aa131a",
   "metadata": {},
   "outputs": [
    {
     "data": {
      "text/html": [
       "<div>\n",
       "<style scoped>\n",
       "    .dataframe tbody tr th:only-of-type {\n",
       "        vertical-align: middle;\n",
       "    }\n",
       "\n",
       "    .dataframe tbody tr th {\n",
       "        vertical-align: top;\n",
       "    }\n",
       "\n",
       "    .dataframe thead th {\n",
       "        text-align: right;\n",
       "    }\n",
       "</style>\n",
       "<table border=\"1\" class=\"dataframe\">\n",
       "  <thead>\n",
       "    <tr style=\"text-align: right;\">\n",
       "      <th></th>\n",
       "      <th>Rate</th>\n",
       "    </tr>\n",
       "    <tr>\n",
       "      <th>User</th>\n",
       "      <th></th>\n",
       "    </tr>\n",
       "  </thead>\n",
       "  <tbody>\n",
       "    <tr>\n",
       "      <th>Jack</th>\n",
       "      <td>0.500</td>\n",
       "    </tr>\n",
       "    <tr>\n",
       "      <th>Jason</th>\n",
       "      <td>0.625</td>\n",
       "    </tr>\n",
       "    <tr>\n",
       "      <th>John</th>\n",
       "      <td>0.500</td>\n",
       "    </tr>\n",
       "    <tr>\n",
       "      <th>Joy</th>\n",
       "      <td>0.625</td>\n",
       "    </tr>\n",
       "    <tr>\n",
       "      <th>Mary</th>\n",
       "      <td>0.625</td>\n",
       "    </tr>\n",
       "  </tbody>\n",
       "</table>\n",
       "</div>"
      ],
      "text/plain": [
       "        Rate\n",
       "User        \n",
       "Jack   0.500\n",
       "Jason  0.625\n",
       "John   0.500\n",
       "Joy    0.625\n",
       "Mary   0.625"
      ]
     },
     "execution_count": 124,
     "metadata": {},
     "output_type": "execute_result"
    }
   ],
   "source": [
    "DF_AggByUser"
   ]
  },
  {
   "cell_type": "markdown",
   "id": "cb0293ff",
   "metadata": {},
   "source": [
    "show the average ratings for each movie."
   ]
  },
  {
   "cell_type": "code",
   "execution_count": 121,
   "id": "aa999b21",
   "metadata": {},
   "outputs": [
    {
     "data": {
      "text/html": [
       "<div>\n",
       "<style scoped>\n",
       "    .dataframe tbody tr th:only-of-type {\n",
       "        vertical-align: middle;\n",
       "    }\n",
       "\n",
       "    .dataframe tbody tr th {\n",
       "        vertical-align: top;\n",
       "    }\n",
       "\n",
       "    .dataframe thead th {\n",
       "        text-align: right;\n",
       "    }\n",
       "</style>\n",
       "<table border=\"1\" class=\"dataframe\">\n",
       "  <thead>\n",
       "    <tr style=\"text-align: right;\">\n",
       "      <th></th>\n",
       "      <th>Rate</th>\n",
       "    </tr>\n",
       "    <tr>\n",
       "      <th>Movie</th>\n",
       "      <th></th>\n",
       "    </tr>\n",
       "  </thead>\n",
       "  <tbody>\n",
       "    <tr>\n",
       "      <th>Intrusion</th>\n",
       "      <td>0.250</td>\n",
       "    </tr>\n",
       "    <tr>\n",
       "      <th>The Addams Family 2</th>\n",
       "      <td>0.667</td>\n",
       "    </tr>\n",
       "    <tr>\n",
       "      <th>The Card Counter</th>\n",
       "      <td>1.000</td>\n",
       "    </tr>\n",
       "    <tr>\n",
       "      <th>The Guilty</th>\n",
       "      <td>0.500</td>\n",
       "    </tr>\n",
       "    <tr>\n",
       "      <th>The Starling</th>\n",
       "      <td>0.625</td>\n",
       "    </tr>\n",
       "    <tr>\n",
       "      <th>The Survivalist</th>\n",
       "      <td>0.625</td>\n",
       "    </tr>\n",
       "  </tbody>\n",
       "</table>\n",
       "</div>"
      ],
      "text/plain": [
       "                      Rate\n",
       "Movie                     \n",
       "Intrusion            0.250\n",
       "The Addams Family 2  0.667\n",
       "The Card Counter     1.000\n",
       "The Guilty           0.500\n",
       "The Starling         0.625\n",
       "The Survivalist      0.625"
      ]
     },
     "execution_count": 121,
     "metadata": {},
     "output_type": "execute_result"
    }
   ],
   "source": [
    "DF_AggByMovie.round(3)"
   ]
  },
  {
   "cell_type": "markdown",
   "id": "9bdefca7",
   "metadata": {},
   "source": [
    "###### Conclusion\n",
    "Using the original scale may put more weights on the variables with a large range. In order to deal with this problem, we need to apply the technique of features rescaling to independent variables or features of data in the step of data pre-processing. In our case, the range of data is from 1 to 5. After normalized the rate, it is only from 0 to 1 which is easier for analysis."
   ]
  },
  {
   "cell_type": "markdown",
   "id": "c7ec37d7",
   "metadata": {},
   "source": [
    "(Extra Credit) Below are the code for showing the standardized ratings by user and movie."
   ]
  },
  {
   "cell_type": "code",
   "execution_count": 127,
   "id": "d729c7dc",
   "metadata": {},
   "outputs": [],
   "source": [
    "df=pd.read_csv(\"https://raw.githubusercontent.com/austin1018/IS362_Assignment7/main/movie%20rate.csv\")\n",
    "df.rename(columns = {'Unnamed: 0': 'User'},inplace=True)\n",
    "df_z_scaled=df.melt(id_vars='User',var_name='Movie',value_name='Rate').dropna()\n",
    "df_z_scaled[\"Rate\"] = (df_z_scaled[\"Rate\"] - df_z_scaled[\"Rate\"].mean()) / df_z_scaled[\"Rate\"].std() "
   ]
  },
  {
   "cell_type": "code",
   "execution_count": 133,
   "id": "de331772",
   "metadata": {},
   "outputs": [],
   "source": [
    "DF_Std_AggByUser=df_z_scaled.groupby([\"User\"]).mean().round(3)\n",
    "DF_Std_AggByMovie=df_z_scaled.groupby([\"Movie\"]).mean().round(3)"
   ]
  },
  {
   "cell_type": "code",
   "execution_count": 134,
   "id": "79ba0ec3",
   "metadata": {},
   "outputs": [
    {
     "data": {
      "text/html": [
       "<div>\n",
       "<style scoped>\n",
       "    .dataframe tbody tr th:only-of-type {\n",
       "        vertical-align: middle;\n",
       "    }\n",
       "\n",
       "    .dataframe tbody tr th {\n",
       "        vertical-align: top;\n",
       "    }\n",
       "\n",
       "    .dataframe thead th {\n",
       "        text-align: right;\n",
       "    }\n",
       "</style>\n",
       "<table border=\"1\" class=\"dataframe\">\n",
       "  <thead>\n",
       "    <tr style=\"text-align: right;\">\n",
       "      <th></th>\n",
       "      <th>Rate</th>\n",
       "    </tr>\n",
       "    <tr>\n",
       "      <th>User</th>\n",
       "      <th></th>\n",
       "    </tr>\n",
       "  </thead>\n",
       "  <tbody>\n",
       "    <tr>\n",
       "      <th>Jack</th>\n",
       "      <td>-0.171</td>\n",
       "    </tr>\n",
       "    <tr>\n",
       "      <th>Jason</th>\n",
       "      <td>0.114</td>\n",
       "    </tr>\n",
       "    <tr>\n",
       "      <th>John</th>\n",
       "      <td>-0.171</td>\n",
       "    </tr>\n",
       "    <tr>\n",
       "      <th>Joy</th>\n",
       "      <td>0.114</td>\n",
       "    </tr>\n",
       "    <tr>\n",
       "      <th>Mary</th>\n",
       "      <td>0.114</td>\n",
       "    </tr>\n",
       "  </tbody>\n",
       "</table>\n",
       "</div>"
      ],
      "text/plain": [
       "        Rate\n",
       "User        \n",
       "Jack  -0.171\n",
       "Jason  0.114\n",
       "John  -0.171\n",
       "Joy    0.114\n",
       "Mary   0.114"
      ]
     },
     "execution_count": 134,
     "metadata": {},
     "output_type": "execute_result"
    }
   ],
   "source": [
    "DF_Std_AggByUser"
   ]
  },
  {
   "cell_type": "code",
   "execution_count": 135,
   "id": "22227d7a",
   "metadata": {},
   "outputs": [
    {
     "data": {
      "text/html": [
       "<div>\n",
       "<style scoped>\n",
       "    .dataframe tbody tr th:only-of-type {\n",
       "        vertical-align: middle;\n",
       "    }\n",
       "\n",
       "    .dataframe tbody tr th {\n",
       "        vertical-align: top;\n",
       "    }\n",
       "\n",
       "    .dataframe thead th {\n",
       "        text-align: right;\n",
       "    }\n",
       "</style>\n",
       "<table border=\"1\" class=\"dataframe\">\n",
       "  <thead>\n",
       "    <tr style=\"text-align: right;\">\n",
       "      <th></th>\n",
       "      <th>Rate</th>\n",
       "    </tr>\n",
       "    <tr>\n",
       "      <th>Movie</th>\n",
       "      <th></th>\n",
       "    </tr>\n",
       "  </thead>\n",
       "  <tbody>\n",
       "    <tr>\n",
       "      <th>Intrusion</th>\n",
       "      <td>-0.743</td>\n",
       "    </tr>\n",
       "    <tr>\n",
       "      <th>The Addams Family 2</th>\n",
       "      <td>0.210</td>\n",
       "    </tr>\n",
       "    <tr>\n",
       "      <th>The Card Counter</th>\n",
       "      <td>0.971</td>\n",
       "    </tr>\n",
       "    <tr>\n",
       "      <th>The Guilty</th>\n",
       "      <td>-0.171</td>\n",
       "    </tr>\n",
       "    <tr>\n",
       "      <th>The Starling</th>\n",
       "      <td>0.114</td>\n",
       "    </tr>\n",
       "    <tr>\n",
       "      <th>The Survivalist</th>\n",
       "      <td>0.114</td>\n",
       "    </tr>\n",
       "  </tbody>\n",
       "</table>\n",
       "</div>"
      ],
      "text/plain": [
       "                      Rate\n",
       "Movie                     \n",
       "Intrusion           -0.743\n",
       "The Addams Family 2  0.210\n",
       "The Card Counter     0.971\n",
       "The Guilty          -0.171\n",
       "The Starling         0.114\n",
       "The Survivalist      0.114"
      ]
     },
     "execution_count": 135,
     "metadata": {},
     "output_type": "execute_result"
    }
   ],
   "source": [
    "DF_Std_AggByMovie"
   ]
  },
  {
   "cell_type": "code",
   "execution_count": null,
   "id": "2564890d",
   "metadata": {},
   "outputs": [],
   "source": []
  }
 ],
 "metadata": {
  "kernelspec": {
   "display_name": "Python 3",
   "language": "python",
   "name": "python3"
  },
  "language_info": {
   "codemirror_mode": {
    "name": "ipython",
    "version": 3
   },
   "file_extension": ".py",
   "mimetype": "text/x-python",
   "name": "python",
   "nbconvert_exporter": "python",
   "pygments_lexer": "ipython3",
   "version": "3.8.8"
  }
 },
 "nbformat": 4,
 "nbformat_minor": 5
}
